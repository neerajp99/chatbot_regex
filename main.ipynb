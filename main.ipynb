{
 "cells": [
  {
   "cell_type": "code",
   "execution_count": 2,
   "metadata": {},
   "outputs": [],
   "source": [
    "import re \n",
    "from re import search"
   ]
  },
  {
   "cell_type": "code",
   "execution_count": 14,
   "metadata": {},
   "outputs": [],
   "source": [
    "def account(val):\n",
    "    pass\n",
    "    "
   ]
  },
  {
   "cell_type": "code",
   "execution_count": 15,
   "metadata": {},
   "outputs": [
    {
     "name": "stdout",
     "output_type": "stream",
     "text": [
      "Hello there! How may I help you today?Tell me the current balance in my bank account\n",
      "ACCOUTN\n",
      "Tell me the current balance in my bank account\n"
     ]
    }
   ],
   "source": [
    "if __name__ == '__main__':\n",
    "    val = input('Hello there! How may I help you today?')\n",
    "    # Removing any special character which is not required \n",
    "    val = re.sub('[^a-zA-Z0-9 \\n\\.]', '', val)\n",
    "    if search('[Aa]ccount', val) or search('[Bb]ank', val):\n",
    "        print('ACCOUTN')\n",
    "        print(val)\n",
    "    else:\n",
    "        print('CREDIT')"
   ]
  },
  {
   "cell_type": "code",
   "execution_count": null,
   "metadata": {},
   "outputs": [],
   "source": []
  }
 ],
 "metadata": {
  "kernelspec": {
   "display_name": "Python 3",
   "language": "python",
   "name": "python3"
  },
  "language_info": {
   "codemirror_mode": {
    "name": "ipython",
    "version": 3
   },
   "file_extension": ".py",
   "mimetype": "text/x-python",
   "name": "python",
   "nbconvert_exporter": "python",
   "pygments_lexer": "ipython3",
   "version": "3.7.3"
  }
 },
 "nbformat": 4,
 "nbformat_minor": 2
}
